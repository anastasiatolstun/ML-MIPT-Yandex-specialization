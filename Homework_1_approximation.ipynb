{
 "cells": [
  {
   "cell_type": "markdown",
   "metadata": {},
   "source": [
    "#### Задача 2:  аппроксимация функции\n",
    "\n",
    "Рассмотрим сложную математическую функцию на отрезке [1, 15]:\n",
    "\n",
    "f(x) = sin(x / 5) * exp(x / 10) + 5 * exp(-x / 2)"
   ]
  },
  {
   "cell_type": "markdown",
   "metadata": {},
   "source": [
    "1) Сформируйте систему линейных уравнений (то есть задайте матрицу коэффициентов A и свободный вектор b) для многочлена первой степени, который должен совпадать с функцией f в точках 1 и 15. Решите данную систему с помощью функции scipy.linalg.solve. Нарисуйте функцию f и полученный многочлен. Хорошо ли он приближает исходную функцию?\n"
   ]
  },
  {
   "cell_type": "code",
   "execution_count": 67,
   "metadata": {},
   "outputs": [],
   "source": [
    "%matplotlib inline\n",
    "import numpy as np\n",
    "import matplotlib.pyplot as plt\n",
    "from scipy import interpolate"
   ]
  },
  {
   "cell_type": "code",
   "execution_count": 68,
   "metadata": {},
   "outputs": [],
   "source": [
    "x = np.arange(1,16,0.1)"
   ]
  },
  {
   "cell_type": "code",
   "execution_count": 69,
   "metadata": {},
   "outputs": [],
   "source": [
    "y = np.sin(x/5)* np.exp(x/10) + 5*np.exp(-x/2)"
   ]
  },
  {
   "cell_type": "code",
   "execution_count": 70,
   "metadata": {},
   "outputs": [
    {
     "data": {
      "text/plain": [
       "array([ 3.25221687,  3.12835399,  3.01206714,  2.90299951,  2.80081118,\n",
       "        2.70517826,  2.6157921 ,  2.53235853,  2.45459713,  2.38224055,\n",
       "        2.31503384,  2.25273387,  2.19510867,  2.14193694,  2.09300744,\n",
       "        2.04811856,  2.00707777,  1.96970118,  1.93581311,  1.90524569,\n",
       "        1.87783842,  1.8534378 ,  1.83189701,  1.81307554,  1.79683886,\n",
       "        1.78305813,  1.77160989,  1.76237578,  1.75524231,  1.75010055,\n",
       "        1.74684595,  1.74537806,  1.74560034,  1.74741997,  1.75074761,\n",
       "        1.75549726,  1.76158605,  1.76893408,  1.77746429,  1.78710226,\n",
       "        1.7977761 ,  1.80941632,  1.82195565,  1.83532898,  1.84947321,\n",
       "        1.86432715,  1.8798314 ,  1.89592828,  1.91256169,  1.92967706,\n",
       "        1.94722128,  1.96514256,  1.98339041,  2.00191553,  2.02066978,\n",
       "        2.03960608,  2.05867839,  2.07784159,  2.09705151,  2.11626482,\n",
       "        2.13543898,  2.15453224,  2.17350357,  2.19231261,  2.21091966,\n",
       "        2.22928563,  2.24737201,  2.26514084,  2.28255469,  2.29957661,\n",
       "        2.31617016,  2.33229931,  2.3479285 ,  2.36302256,  2.37754673,\n",
       "        2.39146662,  2.40474822,  2.41735787,  2.42926225,  2.4404284 ,\n",
       "        2.45082365,  2.46041567,  2.46917245,  2.47706227,  2.48405374,\n",
       "        2.49011575,  2.49521751,  2.4993285 ,  2.50241853,  2.5044577 ,\n",
       "        2.50541641,  2.50526537,  2.5039756 ,  2.50151843,  2.4978655 ,\n",
       "        2.4929888 ,  2.48686063,  2.47945363,  2.47074078,  2.46069543,\n",
       "        2.44929128,  2.43650241,  2.42230328,  2.40666873,  2.38957402,\n",
       "        2.37099482,  2.35090722,  2.32928777,  2.30611345,  2.28136171,\n",
       "        2.2550105 ,  2.22703823,  2.19742385,  2.16614681,  2.13318711,\n",
       "        2.0985253 ,  2.06214251,  2.02402043,  1.98414137,  1.94248826,\n",
       "        1.89904466,  1.85379478,  1.8067235 ,  1.75781638,  1.7070597 ,\n",
       "        1.65444046,  1.59994638,  1.54356596,  1.48528848,  1.42510398,\n",
       "        1.36300335,  1.29897829,  1.23302137,  1.16512601,  1.09528654,\n",
       "        1.02349816,  0.94975703,  0.87406025,  0.79640586,  0.7167929 ,\n",
       "        0.63522142,  0.55169246,  0.46620813,  0.37877157,  0.28938701,\n",
       "        0.19805976,  0.10479627,  0.00960408, -0.08750809, -0.18653037])"
      ]
     },
     "execution_count": 70,
     "metadata": {},
     "output_type": "execute_result"
    }
   ],
   "source": [
    "y"
   ]
  },
  {
   "cell_type": "code",
   "execution_count": 71,
   "metadata": {},
   "outputs": [],
   "source": [
    "m = np.sin(1/5)* np.exp(1/10) + 5*np.exp(-1/2)"
   ]
  },
  {
   "cell_type": "code",
   "execution_count": 72,
   "metadata": {},
   "outputs": [],
   "source": [
    "n = np.sin(15/5)* np.exp(15/10) + 5*np.exp(-15/2)"
   ]
  },
  {
   "cell_type": "code",
   "execution_count": 73,
   "metadata": {},
   "outputs": [],
   "source": [
    "from scipy import linalg"
   ]
  },
  {
   "cell_type": "code",
   "execution_count": 74,
   "metadata": {},
   "outputs": [
    {
     "name": "stdout",
     "output_type": "stream",
     "text": [
      "[ 3.43914511 -0.18692825]\n"
     ]
    }
   ],
   "source": [
    "a = np.array([[1, 1], [1, 15]])\n",
    "b = np.array([m, n])\n",
    "w = linalg.solve(a, b)\n",
    "print(w)"
   ]
  },
  {
   "cell_type": "code",
   "execution_count": 75,
   "metadata": {},
   "outputs": [
    {
     "data": {
      "image/png": "[encoded data removed]",
      "text/plain": [
       "<Figure size 432x288 with 1 Axes>"
      ]
     },
     "metadata": {
      "needs_background": "light"
     },
     "output_type": "display_data"
    }
   ],
   "source": [
    "plt.plot(x, w[0]+w[1]*x)\n",
    "plt.show()"
   ]
  },
  {
   "cell_type": "markdown",
   "metadata": {},
   "source": [
    "Приближает очень плохо"
   ]
  },
  {
   "cell_type": "markdown",
   "metadata": {},
   "source": [
    "2) Повторите те же шаги для многочлена второй степени, который совпадает с функцией f в точках 1, 8 и 15. Улучшилось ли качество аппроксимации?\n"
   ]
  },
  {
   "cell_type": "code",
   "execution_count": 58,
   "metadata": {},
   "outputs": [],
   "source": [
    "k = np.sin(8/5)* np.exp(8/10) + 5*np.exp(-8/2)"
   ]
  },
  {
   "cell_type": "code",
   "execution_count": 85,
   "metadata": {},
   "outputs": [
    {
     "name": "stdout",
     "output_type": "stream",
     "text": [
      "[ 3.32512949 -0.06531159 -0.00760104]\n"
     ]
    }
   ],
   "source": [
    "a_1 = np.array([[1, 1,1], [1, 8, 64], [1, 15,225]])\n",
    "b_1 = np.array([m, k, n])\n",
    "w_1 = linalg.solve(a_1, b_1)\n",
    "print(w_1)"
   ]
  },
  {
   "cell_type": "code",
   "execution_count": 86,
   "metadata": {},
   "outputs": [
    {
     "data": {
      "image/png": "[encoded data removed]",
      "text/plain": [
       "<Figure size 432x288 with 1 Axes>"
      ]
     },
     "metadata": {
      "needs_background": "light"
     },
     "output_type": "display_data"
    }
   ],
   "source": [
    "plt.plot(x, w_1[0]+w_1[1]*x+w_1[2]*x*x)\n",
    "plt.show()"
   ]
  },
  {
   "cell_type": "markdown",
   "metadata": {},
   "source": [
    "Качество немного улучшилось"
   ]
  },
  {
   "cell_type": "markdown",
   "metadata": {},
   "source": [
    "3) Повторите те же шаги для многочлена третьей степени, который совпадает с функцией f в точках 1, 4, 10 и 15. Хорошо ли он аппроксимирует функцию? Коэффициенты данного многочлена (четыре числа в следующем порядке: w_0, w_1, w_2, w_3) являются ответом на задачу. Округлять коэффициенты не обязательно, но при желании можете произвести округление до второго знака (т.е. до числа вида 0.42)\n"
   ]
  },
  {
   "cell_type": "code",
   "execution_count": 87,
   "metadata": {},
   "outputs": [],
   "source": [
    "l = np.sin(4/5)* np.exp(4/10) + 5*np.exp(-4/2)\n",
    "h = np.sin(10/5)* np.exp(10/10) + 5*np.exp(-10/2)"
   ]
  },
  {
   "cell_type": "code",
   "execution_count": 88,
   "metadata": {},
   "outputs": [
    {
     "name": "stdout",
     "output_type": "stream",
     "text": [
      "[ 4.36264154 -1.29552587  0.19333685 -0.00823565]\n"
     ]
    }
   ],
   "source": [
    "a_2 = np.array([[1, 1, 1, 1], [1, 4, 16, 64],[1, 10, 100, 1000], [1, 15, 225, 3375]])\n",
    "b_2 = np.array([m, l, h, n])\n",
    "w_2 = linalg.solve(a_2, b_2)\n",
    "print(w_2)"
   ]
  },
  {
   "cell_type": "code",
   "execution_count": 89,
   "metadata": {},
   "outputs": [
    {
     "data": {
      "image/png": "[encoded data removed]",
      "text/plain": [
       "<Figure size 432x288 with 1 Axes>"
      ]
     },
     "metadata": {
      "needs_background": "light"
     },
     "output_type": "display_data"
    }
   ],
   "source": [
    "plt.plot(x, w_2[0]+w_2[1]*x+w_2[2]*x*x+w_2[3]*x*x*x)\n",
    "plt.show()"
   ]
  },
  {
   "cell_type": "markdown",
   "metadata": {},
   "source": [
    "4) Запишите полученные числа в файл, разделив пробелами. Обратите внимание, что файл должен состоять из одной строки, в конце которой не должно быть переноса. Пример файла с решением вы можете найти в конце задания (submission-2.txt).\n",
    "\n",
    "\n",
    "\n"
   ]
  },
  {
   "cell_type": "code",
   "execution_count": 103,
   "metadata": {},
   "outputs": [],
   "source": [
    "w =np.round(w_2,2)"
   ]
  },
  {
   "cell_type": "code",
   "execution_count": 108,
   "metadata": {},
   "outputs": [],
   "source": [
    "a = str(w[0]) +' '+ str(w[1]) +' '+ str(w[2]) +' '+ str(w[3])\n"
   ]
  },
  {
   "cell_type": "code",
   "execution_count": 109,
   "metadata": {},
   "outputs": [
    {
     "data": {
      "text/plain": [
       "'4.36 -1.3 0.19 -0.01'"
      ]
     },
     "execution_count": 109,
     "metadata": {},
     "output_type": "execute_result"
    }
   ],
   "source": [
    "a"
   ]
  },
  {
   "cell_type": "code",
   "execution_count": 110,
   "metadata": {},
   "outputs": [],
   "source": [
    "file = open('submission-2.txt', 'w')\n",
    "file.write(a)\n",
    "file.close()"
   ]
  }
 ],
 "metadata": {
  "kernelspec": {
   "display_name": "Python 3",
   "language": "python",
   "name": "python3"
  },
  "language_info": {
   "codemirror_mode": {
    "name": "ipython",
    "version": 3
   },
   "file_extension": ".py",
   "mimetype": "text/x-python",
   "name": "python",
   "nbconvert_exporter": "python",
   "pygments_lexer": "ipython3",
   "version": "3.8.3"
  }
 },
 "nbformat": 4,
 "nbformat_minor": 4
}
